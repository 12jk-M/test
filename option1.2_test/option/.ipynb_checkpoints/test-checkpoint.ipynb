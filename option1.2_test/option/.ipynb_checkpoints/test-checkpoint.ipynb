{
 "cells": [
  {
   "cell_type": "code",
   "execution_count": 41,
   "metadata": {
    "collapsed": true
   },
   "outputs": [],
   "source": [
    "from database.database import postgersql,mongodb\n",
    "from config.postgres  import  table_frs_option\n",
    "import numpy as np\n",
    "import pandas as pd"
   ]
  },
  {
   "cell_type": "code",
   "execution_count": 13,
   "metadata": {
    "collapsed": false
   },
   "outputs": [],
   "source": [
    "sql = postgersql()\n",
    "mongo = mongodb()"
   ]
  },
  {
   "cell_type": "code",
   "execution_count": 3,
   "metadata": {
    "collapsed": false
   },
   "outputs": [],
   "source": [
    "data = sql.select(table_frs_option,'*',None)"
   ]
  },
  {
   "cell_type": "code",
   "execution_count": 7,
   "metadata": {
    "collapsed": true
   },
   "outputs": [],
   "source": [
    "currency_pairs = list(set(map(lambda x:x['currency_pair'],data)))"
   ]
  },
  {
   "cell_type": "code",
   "execution_count": 8,
   "metadata": {
    "collapsed": true
   },
   "outputs": [],
   "source": [
    "from database.mongodb import  RateExchange\n",
    "from database.mongodb import  BankRate"
   ]
  },
  {
   "cell_type": "code",
   "execution_count": 10,
   "metadata": {
    "collapsed": false
   },
   "outputs": [],
   "source": [
    "currency_dict = {}\n",
    "for currency_pair in currency_pairs:\n",
    "            RE = RateExchange(currency_pair).getMax()\n",
    "            if RE is not None and RE !=[]:\n",
    "               currency_dict[currency_pair] = RE[0]['Close']"
   ]
  },
  {
   "cell_type": "code",
   "execution_count": 14,
   "metadata": {
    "collapsed": false
   },
   "outputs": [
    {
     "data": {
      "text/plain": [
       "{'AUDCNY': 5.099,\n",
       " 'AUDUSD': 0.7646,\n",
       " 'EURCNY': 7.4845,\n",
       " 'EURUSD': 1.1223,\n",
       " 'USDCNY': 6.6689}"
      ]
     },
     "execution_count": 14,
     "metadata": {},
     "output_type": "execute_result"
    }
   ],
   "source": [
    "currency_dict"
   ]
  },
  {
   "cell_type": "code",
   "execution_count": 104,
   "metadata": {
    "collapsed": false
   },
   "outputs": [],
   "source": []
  },
  {
   "cell_type": "code",
   "execution_count": null,
   "metadata": {
    "collapsed": false
   },
   "outputs": [],
   "source": []
  },
  {
   "cell_type": "code",
   "execution_count": 116,
   "metadata": {
    "collapsed": false
   },
   "outputs": [],
   "source": [
    "##获取每天的汇率\n",
    "spot = mongo.select('kline',{'type':'5','code':'AUDCNY'})\n",
    "\n",
    "spot = pd.DataFrame(spot)\n",
    "spot['Close'] = spot['Close']/spot['PriceWeight']\n",
    "spot['Time'] = spot['Time'].astype(np.datetime64).dt.strftime('%Y-%m-%d')\n",
    "data = pd.DataFrame(data)"
   ]
  },
  {
   "cell_type": "code",
   "execution_count": 27,
   "metadata": {
    "collapsed": false
   },
   "outputs": [],
   "source": [
    "from help.help import timedelta"
   ]
  },
  {
   "cell_type": "code",
   "execution_count": 117,
   "metadata": {
    "collapsed": false
   },
   "outputs": [],
   "source": [
    "def datafill(spot):\n",
    "    \"\"\"填充无交易日期的汇率\"\"\"\n",
    "    def dateseris(mindate,maxdate):\n",
    "        t = 0\n",
    "        date = timedelta(mindate,1)\n",
    "        series = []\n",
    "        while maxdate>=date:\n",
    "            series.append(date)\n",
    "\n",
    "            date = timedelta(date,1)\n",
    "\n",
    "        return series\n",
    "\n",
    "    spot = pd.merge(pd.DataFrame(dateseris(spot['Time'].min(),spot['Time'].max()),columns=['Time']),spot[['Time','Close']],on=['Time'],how='left' )\n",
    "    spot = spot.sort_values('Time')\n",
    "    for i in range(spot.shape[0]):\n",
    "        if spot['Close'].values[i].__str__()=='nan':\n",
    "            spot['Close'].values[i] = spot['Close'].values[i-1]\n",
    "    return spot\n",
    "\n",
    "def lagdata(spot,lags=[30,60,90,120,150,180,210,240,270,300,330,360]):\n",
    "    spot = datafill(spot)\n",
    "    for lag in lags:\n",
    "        spot['Close_%d'%lag] = np.repeat(None,lag).tolist() + spot['Close'].values[:-lag].tolist()\n",
    "    spot =  spot.dropna()\n",
    "    \n",
    "    for lag in lags:\n",
    "        spot['Close_%d_rate'%lag] = (spot['Close'] - spot['Close_%d'%lag])/spot['Close_%d'%lag]\n",
    "    \n",
    "    return spot    "
   ]
  },
  {
   "cell_type": "code",
   "execution_count": 118,
   "metadata": {
    "collapsed": false
   },
   "outputs": [],
   "source": [
    "spot = lagdata(spot,[30])"
   ]
  },
  {
   "cell_type": "code",
   "execution_count": null,
   "metadata": {
    "collapsed": false
   },
   "outputs": [],
   "source": []
  },
  {
   "cell_type": "code",
   "execution_count": 360,
   "metadata": {
    "collapsed": false
   },
   "outputs": [
    {
     "data": {
      "text/plain": [
       "[5.223666713460287,\n",
       " 4.9704086587152077,\n",
       " 4.9809328382160656,\n",
       " 5.0127546377718852,\n",
       " 5.0605821964549715,\n",
       " 5.0293396627174296,\n",
       " 5.0198513191010115,\n",
       " 5.0146150718495806,\n",
       " 5.201252205957851,\n",
       " 5.2580594203894551]"
      ]
     },
     "execution_count": 360,
     "metadata": {},
     "output_type": "execute_result"
    }
   ],
   "source": [
    "##蒙特卡洛模拟未来十二个月的每个月汇率情况\n",
    "def simulation(S,rate,times):\n",
    "    pred = []##模拟值\n",
    "    for i in range(times):\n",
    "        r = np.random.choice(rate)\n",
    "        if pred ==[]:\n",
    "            \n",
    "            \n",
    "            pred.append(S*(1+r))\n",
    "        else:\n",
    "            pred.append(pred[-1]*(1+r))\n",
    "    return pred\n",
    "simulation(5.1011,spot['Close_30_rate'].values,10)"
   ]
  },
  {
   "cell_type": "code",
   "execution_count": 230,
   "metadata": {
    "collapsed": false
   },
   "outputs": [
    {
     "data": {
      "text/plain": [
       "-0.0049593121982955774"
      ]
     },
     "execution_count": 230,
     "metadata": {},
     "output_type": "execute_result"
    }
   ],
   "source": []
  }
 ],
 "metadata": {
  "kernelspec": {
   "display_name": "Python [Root]",
   "language": "python",
   "name": "Python [Root]"
  },
  "language_info": {
   "codemirror_mode": {
    "name": "ipython",
    "version": 2
   },
   "file_extension": ".py",
   "mimetype": "text/x-python",
   "name": "python",
   "nbconvert_exporter": "python",
   "pygments_lexer": "ipython2",
   "version": "2.7.12"
  }
 },
 "nbformat": 4,
 "nbformat_minor": 0
}
