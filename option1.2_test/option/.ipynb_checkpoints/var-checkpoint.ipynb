{
 "cells": [
  {
   "cell_type": "code",
   "execution_count": 1,
   "metadata": {
    "collapsed": true
   },
   "outputs": [],
   "source": [
    "from database.database import mongodb\n",
    "import pandas as pd\n",
    "import numpy as np\n",
    "from ggplot import *\n",
    "%matplotlib inline\n",
    "from help.help import strTostr\n",
    "import datetime as dt\n"
   ]
  },
  {
   "cell_type": "code",
   "execution_count": 27,
   "metadata": {
    "collapsed": true
   },
   "outputs": [],
   "source": [
    "##测试数据集\n",
    "colname = ['Currency',##货币对\n",
    "           'K',##锁定汇率\n",
    "           'Period',##期限\n",
    "           'TradeDate',##交易日期\n",
    "           'DeliverDate',##交割日期\n",
    "           'Money',##本金\n",
    "           'Code',##本金货币代码\n",
    "          ]\n",
    "data = [\n",
    "        ['USDCNY',6.6685,'一个月','2016-10-01','2016-11-01',1000000,'USD'],\n",
    "        ['USDCNY',6.6685,'三个月','2016-09-01','2016-12-01',3000000,'USD'],\n",
    "        ['USDCNY',6.6685,'十二个月','2016-01-01','2016-12-31',5000000,'USD'],\n",
    "        ['GBPCNY',8.2923,'十二个月','2016-02-01','2017-01-31',100000,'GBP'],\n",
    "        ['GBPCNY',8.2923,'一个月','2016-10-01','2016-11-01',829230,'CNY'],\n",
    "       ]\n",
    "data = pd.DataFrame(data,columns = colname)\n",
    "data['TradeDate'] = data['TradeDate'].astype(np.datetime64)\n",
    "data['DeliverDate'] = data['DeliverDate'].astype(np.datetime64)"
   ]
  },
  {
   "cell_type": "code",
   "execution_count": 29,
   "metadata": {
    "collapsed": false
   },
   "outputs": [],
   "source": [
    "def getSpot(code):\n",
    "    \"\"\"\n",
    "    获取汇率对的实时汇率,用于把本金转化为美元\n",
    "    \"\"\"\n",
    "    if code=='USD':\n",
    "        return (1.0,'USDUSD')\n",
    "    else:\n",
    "        code1 = 'USD'+code.strip().upper()\n",
    "        code2 = code.strip().upper() + 'USD'\n",
    "        mongo = mongodb()\n",
    "        data = mongo.select('kline_new',{'type':'0','code':{'$in':[code1,code2]}})\n",
    "        mongo.close()\n",
    "        \n",
    "        if data!=[]:\n",
    "            data = data[0]\n",
    "            return  (data['Close']/1.0/data['PriceWeight'],data['code'])\n",
    "        else:\n",
    "             return None                              \n",
    "                                           \n",
    "data['USDMoney'] = data['Code'].map(lambda x:getSpot(x))    \n",
    "data['USDpair'] = data['USDMoney'].map(lambda x:x[1])\n",
    "data['USDMoney'] = data['USDMoney'].map(lambda x:x[0])\n",
    "data['USDMoney'] = map(lambda lst:\n",
    "                       lst['Money']/lst['USDMoney'] if 'USD'+lst['Code'].strip().upper()==lst['USDpair']\n",
    "                       else lst['Money']/lst['USDMoney'],\n",
    "                       data[['Code','USDpair','USDMoney','Money']].to_dict('records')\n",
    "                      )\n",
    "data['weight'] = data['USDMoney']/data['USDMoney'].sum()##获取每笔结构性产品在所有货币中所占的权重\n",
    "data=data[['Currency','K','TradeDate','DeliverDate','weight']]##USDMoney美元金额\n",
    "data=data[['Currency','K','TradeDate','DeliverDate','weight']]##USDMoney美元金额\n"
   ]
  },
  {
   "cell_type": "code",
   "execution_count": 73,
   "metadata": {
    "collapsed": false
   },
   "outputs": [
    {
     "data": {
      "text/html": [
       "<div>\n",
       "<table border=\"1\" class=\"dataframe\">\n",
       "  <thead>\n",
       "    <tr style=\"text-align: right;\">\n",
       "      <th></th>\n",
       "      <th>Currency</th>\n",
       "      <th>K</th>\n",
       "      <th>TradeDate</th>\n",
       "      <th>DeliverDate</th>\n",
       "      <th>weight</th>\n",
       "    </tr>\n",
       "  </thead>\n",
       "  <tbody>\n",
       "    <tr>\n",
       "      <th>0</th>\n",
       "      <td>USDCNY</td>\n",
       "      <td>6.6685</td>\n",
       "      <td>2016-10-01</td>\n",
       "      <td>2016-11-01</td>\n",
       "      <td>0.108639</td>\n",
       "    </tr>\n",
       "    <tr>\n",
       "      <th>1</th>\n",
       "      <td>USDCNY</td>\n",
       "      <td>6.6685</td>\n",
       "      <td>2016-09-01</td>\n",
       "      <td>2016-12-01</td>\n",
       "      <td>0.325918</td>\n",
       "    </tr>\n",
       "    <tr>\n",
       "      <th>2</th>\n",
       "      <td>USDCNY</td>\n",
       "      <td>6.6685</td>\n",
       "      <td>2016-01-01</td>\n",
       "      <td>2016-12-31</td>\n",
       "      <td>0.543197</td>\n",
       "    </tr>\n",
       "    <tr>\n",
       "      <th>3</th>\n",
       "      <td>GBPCNY</td>\n",
       "      <td>8.2923</td>\n",
       "      <td>2016-02-01</td>\n",
       "      <td>2017-01-31</td>\n",
       "      <td>0.008737</td>\n",
       "    </tr>\n",
       "    <tr>\n",
       "      <th>4</th>\n",
       "      <td>GBPCNY</td>\n",
       "      <td>8.2923</td>\n",
       "      <td>2016-10-01</td>\n",
       "      <td>2016-11-01</td>\n",
       "      <td>0.013509</td>\n",
       "    </tr>\n",
       "  </tbody>\n",
       "</table>\n",
       "</div>"
      ],
      "text/plain": [
       "  Currency       K  TradeDate DeliverDate    weight\n",
       "0   USDCNY  6.6685 2016-10-01  2016-11-01  0.108639\n",
       "1   USDCNY  6.6685 2016-09-01  2016-12-01  0.325918\n",
       "2   USDCNY  6.6685 2016-01-01  2016-12-31  0.543197\n",
       "3   GBPCNY  8.2923 2016-02-01  2017-01-31  0.008737\n",
       "4   GBPCNY  8.2923 2016-10-01  2016-11-01  0.013509"
      ]
     },
     "execution_count": 73,
     "metadata": {},
     "output_type": "execute_result"
    }
   ],
   "source": [
    "data\n",
    "def datarange(data):\n",
    "    for lst in data.to_dict('records'):\n",
    "        "
   ]
  },
  {
   "cell_type": "code",
   "execution_count": 36,
   "metadata": {
    "collapsed": false
   },
   "outputs": [],
   "source": [
    "def gethistory(Currency):\n",
    "    \"\"\"获取汇率对的历史收盘价\"\"\"\n",
    "    data =[]\n",
    "    try:\n",
    "       mongo = mongodb()\n",
    "       data = mongo.select('kline',{'type':'5','code':Currency})\n",
    "       mongo.close()\n",
    "    except:\n",
    "        pass\n",
    "    if data!=[]:\n",
    "        data = pd.DataFrame(data)\n",
    "        data['Close'] = data['Close']/data['PriceWeight']\n",
    "        data['High'] = data['High']/data['PriceWeight']\n",
    "        data['Open'] = data['Open']/data['PriceWeight']\n",
    "        data['LastClose'] = data['LastClose']/data['PriceWeight']\n",
    "        data['Low'] = data['Low']/data['PriceWeight']\n",
    "        data = data[['Close','High','LastClose','Low','Open','Time','code']]\n",
    "        data['Time'] = data['Time'].map(lambda x:strTostr(x,'%Y-%m-%d %H:%M:%S','%Y-%m-%d'))\n",
    "        data = data[['Time','Close']]\n",
    "    return data\n",
    "\n",
    "\n",
    "def timedelta(s,day,format='%Y-%m-%d'):\n",
    "    \"\"\"在当前日期上加减天数，返回对应的日期\"\"\"\n",
    "   try:\n",
    "      return (dt.datetime.strptime(s,format)+dt.timedelta(day)).strftime(format)\n",
    "   except:\n",
    "       return None"
   ]
  },
  {
   "cell_type": "code",
   "execution_count": 49,
   "metadata": {
    "collapsed": false
   },
   "outputs": [],
   "source": [
    "def dateseris(mindate,maxdate):\n",
    "        \"\"\"生成日期序列\"\"\"\n",
    "        date = timedelta(mindate,1)\n",
    "        series = []\n",
    "        while maxdate>=date:\n",
    "            series.append(date)\n",
    "\n",
    "            date = timedelta(date,1)\n",
    "\n",
    "        return series\n",
    "def datafill(spots):\n",
    "    \"\"\"\n",
    "    填充无交易日期的汇率\n",
    "    以上一个交易日的的收盘价进行填充\n",
    "    \"\"\"\n",
    "   \n",
    "    spot = spots.copy()\n",
    "    spot = pd.merge(pd.DataFrame(dateseris(spot['Time'].min(),spot['Time'].max()),columns=['Time']),spot[['Time','Close']],on=['Time'],how='left' )\n",
    "    spot = spot.sort_values('Time')\n",
    "    for i in range(spot.shape[0]):\n",
    "        if spot['Close'].values[i].__str__()=='nan':\n",
    "            spot['Close'].values[i] = spot['Close'].values[i-1]\n",
    "    return spot\n",
    "\n",
    "def lagdata(spots,lags=[30,60,180]):\n",
    "    \"\"\"\n",
    "    spot：每天外汇收益率时间序列\n",
    "    lags：时间长度\n",
    "    序列指定时间长度的收益率\n",
    "    \"\"\"\n",
    "    spot = datafill(spots)\n",
    "    #for lag in lags:\n",
    "    lag = lags[0]  \n",
    "    spot['Close_%d'%lag] = np.repeat(None,lag).tolist() + spot['Close'].values[:-lag].tolist()\n",
    "    spot['Close_%d_rate'%lag] = (spot['Close'] - spot['Close_%d'%lag])/spot['Close_%d'%lag]\n",
    "\n",
    "    spot =  spot.dropna()\n",
    "    return spot[['Time','Close_%d_rate'%lag]]\n"
   ]
  },
  {
   "cell_type": "code",
   "execution_count": 67,
   "metadata": {
    "collapsed": false
   },
   "outputs": [],
   "source": [
    "def getuniondata(data):\n",
    "    uniondata = None\n",
    "    for lst,index in zip(data[['Currency','DeliverDate','TradeDate']].values,data.index.values):\n",
    "        currency = lst[0]\n",
    "        lag = (lst[1] -lst[2]).days\n",
    "\n",
    "        spots = gethistory(currency)\n",
    "        spots = lagdata(spots,[lag])\n",
    "        spots.columns = ['Time',currency+'_'+str(lag)+'_'+str(index)]\n",
    "        if uniondata is None:\n",
    "                uniondata = spots\n",
    "        else:\n",
    "               uniondata = pd.merge(uniondata,spots,on=['Time'])\n",
    "\n",
    "    return uniondata\n",
    "        "
   ]
  },
  {
   "cell_type": "code",
   "execution_count": 70,
   "metadata": {
    "collapsed": false
   },
   "outputs": [
    {
     "name": "stderr",
     "output_type": "stream",
     "text": [
      "/Users/lywen/anaconda/lib/python2.7/site-packages/ipykernel/__main__.py:4: SettingWithCopyWarning: \n",
      "A value is trying to be set on a copy of a slice from a DataFrame.\n",
      "Try using .loc[row_indexer,col_indexer] = value instead\n",
      "\n",
      "See the caveats in the documentation: http://pandas.pydata.org/pandas-docs/stable/indexing.html#indexing-view-versus-copy\n"
     ]
    }
   ],
   "source": [
    "temp = None\n",
    "for group in ['USDCNY_31_0','USDCNY_91_1','USDCNY_365_2','GBPCNY_365_3','GBPCNY_31_4']:\n",
    "    tm = uniondata[['Time',group]]\n",
    "    tm['group'] = group\n",
    "    tm.columns = ['Time','rate','group']\n",
    "    if temp is None:\n",
    "        temp = tm\n",
    "        \n",
    "    else:\n",
    "        temp = temp.append(tm)\n",
    "       "
   ]
  },
  {
   "cell_type": "code",
   "execution_count": 72,
   "metadata": {
    "collapsed": false
   },
   "outputs": [
    {
     "data": {
      "image/png": "[encoded data removed]",
      "text/plain": [
       "<matplotlib.figure.Figure at 0x11a9824d0>"
      ]
     },
     "metadata": {},
     "output_type": "display_data"
    },
    {
     "data": {
      "text/plain": [
       "<ggplot: (296360601)>"
      ]
     },
     "execution_count": 72,
     "metadata": {},
     "output_type": "execute_result"
    }
   ],
   "source": [
    "p = ggplot(aes(x='rate',group='group',color='group'),temp)+geom_density()\n",
    "p"
   ]
  }
 ],
 "metadata": {
  "kernelspec": {
   "display_name": "Python [Root]",
   "language": "python",
   "name": "Python [Root]"
  },
  "language_info": {
   "codemirror_mode": {
    "name": "ipython",
    "version": 2
   },
   "file_extension": ".py",
   "mimetype": "text/x-python",
   "name": "python",
   "nbconvert_exporter": "python",
   "pygments_lexer": "ipython2",
   "version": "2.7.12"
  }
 },
 "nbformat": 4,
 "nbformat_minor": 0
}
