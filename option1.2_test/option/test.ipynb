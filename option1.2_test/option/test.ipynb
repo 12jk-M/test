{
 "cells": [
  {
   "cell_type": "code",
   "execution_count": null,
   "metadata": {
    "collapsed": true
   },
   "outputs": [],
   "source": [
    "from database.database import postgersql,mongodb\n",
    "from config.postgres  import  table_frs_option\n",
    "import numpy as np\n",
    "import pandas as pd"
   ]
  },
  {
   "cell_type": "code",
   "execution_count": null,
   "metadata": {
    "collapsed": false
   },
   "outputs": [],
   "source": [
    "sql = postgersql()\n",
    "mongo = mongodb()"
   ]
  },
  {
   "cell_type": "code",
   "execution_count": 1,
   "metadata": {
    "collapsed": false
   },
   "outputs": [
    {
     "ename": "ImportError",
     "evalue": "No module named keras",
     "output_type": "error",
     "traceback": [
      "\u001b[0;31m---------------------------------------------------------------------------\u001b[0m",
      "\u001b[0;31mImportError\u001b[0m                               Traceback (most recent call last)",
      "\u001b[0;32m<ipython-input-1-c74e2bd4ca71>\u001b[0m in \u001b[0;36m<module>\u001b[0;34m()\u001b[0m\n\u001b[0;32m----> 1\u001b[0;31m \u001b[0;32mimport\u001b[0m \u001b[0mkeras\u001b[0m\u001b[0;34m\u001b[0m\u001b[0m\n\u001b[0m",
      "\u001b[0;31mImportError\u001b[0m: No module named keras"
     ]
    }
   ],
   "source": [
    "import keras"
   ]
  },
  {
   "cell_type": "code",
   "execution_count": null,
   "metadata": {
    "collapsed": false
   },
   "outputs": [],
   "source": [
    "colname = [\n",
    "             'id',    \n",
    "             'trade_id',\n",
    "             'currency_pair',\n",
    "             'sell_currency',\n",
    "             'buy_currency',\n",
    "             'sell_amount',\n",
    "             'trade_date',\n",
    "             'determined_date',\n",
    "             'delivery_date',\n",
    "             'trp',\n",
    "             'rate'\n",
    "                ]\n",
    "data = sql.select(table_frs_option,colname,None)\n",
    "data = pd.DataFrame(data)"
   ]
  },
  {
   "cell_type": "code",
   "execution_count": null,
   "metadata": {
    "collapsed": false
   },
   "outputs": [],
   "source": [
    "data"
   ]
  },
  {
   "cell_type": "code",
   "execution_count": null,
   "metadata": {
    "collapsed": true
   },
   "outputs": [],
   "source": [
    "currency_pairs = list(set(map(lambda x:x['currency_pair'],data)))"
   ]
  },
  {
   "cell_type": "code",
   "execution_count": null,
   "metadata": {
    "collapsed": true
   },
   "outputs": [],
   "source": [
    "from database.mongodb import  RateExchange\n",
    "from database.mongodb import  BankRate"
   ]
  },
  {
   "cell_type": "code",
   "execution_count": null,
   "metadata": {
    "collapsed": false
   },
   "outputs": [],
   "source": [
    "currency_dict = {}\n",
    "for currency_pair in currency_pairs:\n",
    "            RE = RateExchange(currency_pair).getMax()\n",
    "            if RE is not None and RE !=[]:\n",
    "               currency_dict[currency_pair] = RE[0]['Close']"
   ]
  },
  {
   "cell_type": "code",
   "execution_count": null,
   "metadata": {
    "collapsed": false
   },
   "outputs": [],
   "source": [
    "currency_dict"
   ]
  },
  {
   "cell_type": "code",
   "execution_count": null,
   "metadata": {
    "collapsed": false
   },
   "outputs": [],
   "source": []
  },
  {
   "cell_type": "code",
   "execution_count": null,
   "metadata": {
    "collapsed": false
   },
   "outputs": [],
   "source": []
  },
  {
   "cell_type": "code",
   "execution_count": null,
   "metadata": {
    "collapsed": false
   },
   "outputs": [],
   "source": [
    "##获取每天的汇率\n",
    "spot = mongo.select('kline',{'type':'5','code':'AUDCNY'})\n",
    "\n",
    "spot = pd.DataFrame(spot)\n",
    "spot['Close'] = spot['Close']/spot['PriceWeight']\n",
    "spot['Time'] = spot['Time'].astype(np.datetime64).dt.strftime('%Y-%m-%d')\n"
   ]
  },
  {
   "cell_type": "code",
   "execution_count": null,
   "metadata": {
    "collapsed": false
   },
   "outputs": [],
   "source": [
    "from help.help import timedelta"
   ]
  },
  {
   "cell_type": "code",
   "execution_count": null,
   "metadata": {
    "collapsed": false
   },
   "outputs": [],
   "source": [
    "def datafill(spot):\n",
    "    \"\"\"填充无交易日期的汇率\"\"\"\n",
    "    def dateseris(mindate,maxdate):\n",
    "        t = 0\n",
    "        date = timedelta(mindate,1)\n",
    "        series = []\n",
    "        while maxdate>=date:\n",
    "            series.append(date)\n",
    "\n",
    "            date = timedelta(date,1)\n",
    "\n",
    "        return series\n",
    "\n",
    "    spot = pd.merge(pd.DataFrame(dateseris(spot['Time'].min(),spot['Time'].max()),columns=['Time']),spot[['Time','Close']],on=['Time'],how='left' )\n",
    "    spot = spot.sort_values('Time')\n",
    "    for i in range(spot.shape[0]):\n",
    "        if spot['Close'].values[i].__str__()=='nan':\n",
    "            spot['Close'].values[i] = spot['Close'].values[i-1]\n",
    "    return spot\n",
    "\n",
    "def lagdata(spot,lags=[30,60,90,120,150,180,210,240,270,300,330,360]):\n",
    "    spot = datafill(spot)\n",
    "    for lag in lags:\n",
    "        spot['Close_%d'%lag] = np.repeat(None,lag).tolist() + spot['Close'].values[:-lag].tolist()\n",
    "    spot =  spot.dropna()\n",
    "    \n",
    "    for lag in lags:\n",
    "        spot['Close_%d_rate'%lag] = (spot['Close'] - spot['Close_%d'%lag])/spot['Close_%d'%lag]\n",
    "    \n",
    "    return spot    "
   ]
  },
  {
   "cell_type": "code",
   "execution_count": null,
   "metadata": {
    "collapsed": false
   },
   "outputs": [],
   "source": [
    "spot = datafill(spot)\n",
    "spot = lagdata(spot,[30,60,90,120])"
   ]
  },
  {
   "cell_type": "code",
   "execution_count": null,
   "metadata": {
    "collapsed": false
   },
   "outputs": [],
   "source": [
    "spot"
   ]
  },
  {
   "cell_type": "code",
   "execution_count": null,
   "metadata": {
    "collapsed": false
   },
   "outputs": [],
   "source": [
    "def getkline(code,date):\n",
    "    \"\"\"\n",
    "    code：汇率对\n",
    "    date：日期\n",
    "    获取指定日期指定汇率对的汇率\n",
    "    \"\"\"\n",
    "    date = date+\" 00:00:00\"\n",
    "    reslut =  mongo.select('kline',{'type':'5','code':code,'Time':date})\n",
    "    if reslut!=[]:\n",
    "        return reslut[0].get('High') /1.0 / reslut[0].get('PriceWeight')\n",
    "    else:\n",
    "        return None\n",
    "\n",
    "    \n",
    "    "
   ]
  },
  {
   "cell_type": "code",
   "execution_count": null,
   "metadata": {
    "collapsed": false
   },
   "outputs": [],
   "source": []
  },
  {
   "cell_type": "code",
   "execution_count": null,
   "metadata": {
    "collapsed": false
   },
   "outputs": [],
   "source": [
    "##厘定日汇率\n",
    "data['determined_date_rate'] = data[['currency_pair','determined_date']].apply(func = lambda x:getkline(x[0],str(x[1])),axis=1)"
   ]
  },
  {
   "cell_type": "code",
   "execution_count": null,
   "metadata": {
    "collapsed": false
   },
   "outputs": [],
   "source": [
    "data"
   ]
  },
  {
   "cell_type": "code",
   "execution_count": null,
   "metadata": {
    "collapsed": false
   },
   "outputs": [],
   "source": [
    "##蒙特卡洛模拟未来十二个月的每个月汇率情况\n",
    "def simulation(S,rate,times):\n",
    "    pred = []##模拟值\n",
    "    for i in range(times):\n",
    "        r = np.random.choice(rate)\n",
    "        if pred ==[]:\n",
    "            \n",
    "            \n",
    "            pred.append(S*(1+r))\n",
    "        else:\n",
    "            pred.append(pred[-1]*(1+r))\n",
    "    return pred\n",
    "simulation(5.1011,spot['Close_30_rate'].values,10)"
   ]
  },
  {
   "cell_type": "code",
   "execution_count": null,
   "metadata": {
    "collapsed": false
   },
   "outputs": [],
   "source": [
    "那个太长了，可能是逻辑导致的，以获取牌价为例目前的方式是：\n",
    "1.先group by 银行、币种，获得他们的最大发布时间（也就是最近更新的时间）；\n",
    "\t得到了一大堆数据。\n",
    "2.再用 银行、币种、时间三个条件去匹配，然后这一大堆数据之前是or关系，就比如：\n",
    "{$match: {$or: \n",
    "\t[\n",
    "\t\t{bank : 'BOC', currency : 'USD', publishDateTime : '2016-09-23 12:12:12'},\n",
    "\t\t{bank : 'BOC', currency : 'EUR', publishDateTime : '2016-09-23 10:57:00'},\n",
    "\t\t…\n",
    "\t]\n",
    "}\n",
    " \n",
    "\n",
    "\n",
    "function getbankspot(bank,limitnum=1000){\n",
    "        var result= {};\n",
    "        var temp = db.getSiblingDB('fes')[bank].find().sort({'DataDate':-1}).limit(limitnum);\n",
    "        temp.forEach(\n",
    "            function(x){\n",
    "                if (result.hasOwnProperty(x.banktype)){\n",
    "                    if (result[x.banktype].hasOwnProperty(x.currency)){\n",
    "                        if (result[x.banktype][x.currency]['publishDateTime']< x.publishDateTime){\n",
    "                            result[x.banktype][x.currency] =x;\n",
    "                        }\n",
    "                    }\n",
    "                    else{\n",
    "                            result[x.banktype][x.currency]=x;\n",
    "                        }\n",
    "                }\n",
    "                else{\n",
    "                    result[x.banktype] ={};\n",
    "                    result[x.banktype][x.currency] =x;\n",
    "                }\n",
    "                \n",
    "            }\n",
    "            \n",
    "        );\n",
    "        var data = []\n",
    "        for(banktype in result){\n",
    "            for(currency in result[banktype]){\n",
    "                data.push(result[banktype][currency])\n",
    "            }\n",
    "        }\n",
    "        return data;  \n",
    "      \n",
    "    }\n",
    " \n"
   ]
  },
  {
   "cell_type": "code",
   "execution_count": null,
   "metadata": {
    "collapsed": true
   },
   "outputs": [],
   "source": [
    "那个太长了，可能是逻辑导致的，以获取牌价为例目前的方式是：\n",
    "1.先group by 银行、币种，获得他们的最大发布时间（也就是最近更新的时间）；\n",
    "\t得到了一大堆数据。\n",
    "2.再用 银行、币种、时间三个条件去匹配，然后这一大堆数据之前是or关系，就比如：\n",
    "{$match: {$or: \n",
    "\t[\n",
    "\t\t{bank : 'BOC', currency : 'USD', publishDateTime : '2016-09-23 12:12:12'},\n",
    "\t\t{bank : 'BOC', currency : 'EUR', publishDateTime : '2016-09-23 10:57:00'},\n",
    "\t\t…\n",
    "\t]\n",
    "}\n",
    "\n",
    "function getspot(bank){\n",
    "        var currencys = db.getSiblingDB('fes')[bank].distinct('currency');\n",
    "        var data =[];\n",
    "        types =  ['BOC','ABC','ICBC','CCB'];\n",
    "        \n",
    "        for(index in currencys){\n",
    "            \n",
    "            for(type_ in types){\n",
    "               temp = db.getSiblingDB('fes')[bank].find({'currency':currencys[index],'banktype':types[type_]});\n",
    "               if(temp.hasNext()){\n",
    "                       data.push(temp .next());\n",
    "                    }\n",
    "                                \n",
    "            }\n",
    "        }\n",
    "        return data;}\n",
    " \n",
    "        var result= {};\n",
    "        var db.getSiblingDB('fes')[bank].distinct('currency')\n",
    "        for \n",
    "        var t = new Date();\n",
    "        var temp = db.getSiblingDB('fes')[bank].find({'date':{'$gte':date}})\n",
    "        \n",
    "        temp.forEach(\n",
    "            function(x){\n",
    "                if (result.hasOwnProperty(x.banktype)){\n",
    "                    if (result[x.banktype].hasOwnProperty(x.currency)){\n",
    "                        if (result[x.banktype][x.currency]['publishDate']< x.publishDate){\n",
    "                            result[x.banktype][x.currency] =x;\n",
    "                        }\n",
    "                        \n",
    "                    }\n",
    "                    else{\n",
    "                            result[x.banktype][x.currency]=x;\n",
    "                        }\n",
    "                }\n",
    "                else{\n",
    "                    result[x.banktype] ={};\n",
    "                    result[x.banktype][x.currency] =x;\n",
    "                }\n",
    "                \n",
    "            }\n",
    "            \n",
    "        );\n",
    "       print(new Date() -t); \n",
    "        \n",
    "        return result;  \n",
    "      \n",
    "    }\n",
    " \n"
   ]
  },
  {
   "cell_type": "code",
   "execution_count": null,
   "metadata": {
    "collapsed": true
   },
   "outputs": [],
   "source": [
    "var temp = db.getSiblingDB('fes')['bank'].find()\n",
    "temp.forEach(\n",
    "            function(x){\n",
    "                if(result.hasOwnProperty(x.banktype)){\n",
    "                    if result[x.banktype].hasOwnProperty(x.currency){\n",
    "                        if result[x.banktype][x.currency]['publishDate']< x.publishDate{\n",
    "                            result[x.banktype][x.currency]['publishDate'] = x.publishDate;\n",
    "                            result[x.banktype][x.currency]['spotBuy'] = x.spotBuy;\n",
    "                            result[x.banktype][x.currency]['cashSell'] = x.cashSell;\n",
    "                            result[x.banktype][x.currency]['cashBuy'] = x.cashBuy;\n",
    "                            result[x.banktype][x.currency]['spotSell'] = x.spotSell;\n",
    "                            \n",
    "                             }\n",
    "                        \n",
    "                    }\n",
    "                    else{\n",
    "                            result[x.banktype][x.currency]=x;\n",
    "                        }\n",
    "                }\n",
    "        }\n",
    "    )\n",
    "        \n",
    "                else{\n",
    "                    result[x.banktype] ={};\n",
    "                    result[x.banktype][x.currency] =x;\n",
    "                }\n",
    "                \n",
    "            }\n",
    "            \n",
    "        );"
   ]
  },
  {
   "cell_type": "code",
   "execution_count": null,
   "metadata": {
    "collapsed": true
   },
   "outputs": [],
   "source": [
    "db.bank.ensureIndex({ \"banktype\" : 1,\"currency\" : 1, \"date\" : -1, \"publishDate\" : -1},{\"unique\" : true})\n",
    "db.kline_2016_09_25.ensureIndex({\"code\" : 1,\"type\" : 1,\"Time\" : -1})"
   ]
  },
  {
   "cell_type": "code",
   "execution_count": null,
   "metadata": {
    "collapsed": true
   },
   "outputs": [],
   "source": [
    "import t"
   ]
  }
 ],
 "metadata": {
  "anaconda-cloud": {},
  "kernelspec": {
   "display_name": "Python [Root]",
   "language": "python",
   "name": "Python [Root]"
  },
  "language_info": {
   "codemirror_mode": {
    "name": "ipython",
    "version": 2
   },
   "file_extension": ".py",
   "mimetype": "text/x-python",
   "name": "python",
   "nbconvert_exporter": "python",
   "pygments_lexer": "ipython2",
   "version": "2.7.12"
  }
 },
 "nbformat": 4,
 "nbformat_minor": 0
}
