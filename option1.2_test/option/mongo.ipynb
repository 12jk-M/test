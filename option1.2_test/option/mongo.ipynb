{
 "cells": [
  {
   "cell_type": "code",
   "execution_count": null,
   "metadata": {
    "collapsed": false
   },
   "outputs": [],
   "source": [
    "# -*- coding: utf-8 -*-\n",
    "\"\"\"\n",
    "Created on Tue Aug 23 11:51:41 2016\n",
    "数据库基本操作，从配置文件中读取基本配置信息\n",
    "@author: lywen\n",
    "\"\"\"\n",
    "import traceback\n",
    "import datetime as dt\n",
    "import time\n",
    "def getmongo():\n",
    "    \"\"\"获取mongo配置\"\"\"\n",
    "    user = 'mongo'\n",
    "    password ='mongo123456'\n",
    "    host='10.4.32.21'\n",
    "    port=27017\n",
    "    db='fes'\n",
    "    return user,password,host,port,db\n",
    "class database(object):\n",
    "    \"\"\"\n",
    "    数据库操作抽象类\n",
    "    \"\"\"\n",
    "    def __init__(self,db,user,password,host,port):\n",
    "        self.db = db## 数据库实例\n",
    "        self.user = user ## 用户\n",
    "        self.password = password ##密码\n",
    "        self.host = host ##数据库IP\n",
    "        self.port = port ## 数据库端口\n",
    "        \n",
    "    def connect(self):\n",
    "        \"\"\"\n",
    "        数据库连接\n",
    "        \"\"\"\n",
    "        pass\n",
    "        \n",
    "    def update(self,sql):\n",
    "        \"\"\"\n",
    "        数据update更新操作\n",
    "        \"\"\"\n",
    "        pass\n",
    "    \n",
    "    def insert(self,sql):\n",
    "        \"\"\"\n",
    "        数据插入操作\n",
    "        \"\"\"\n",
    "        pass\n",
    "        \n",
    "    def create(self,tablename):\n",
    "        \"\"\"\n",
    "        创建表\n",
    "        \"\"\"\n",
    "        pass\n",
    "    \n",
    "    def select(self,sql):\n",
    "        \"\"\"\n",
    "         数据查询\n",
    "        \"\"\"\n",
    "        pass\n",
    "    \n",
    "    def run(self):\n",
    "        \"\"\"\n",
    "        运行\n",
    "        \"\"\"\n",
    "        pass\n",
    "    \n",
    "    def close(self):\n",
    "        \"\"\"\n",
    "        关闭连接\n",
    "        \"\"\"\n",
    "        pass\n",
    "    \n",
    "   \n",
    "   \n",
    "class mongodb(database):\n",
    "    \"\"\"\n",
    "    mongo数据库相关操作\n",
    "    \"\"\"\n",
    "    def __init__(self):\n",
    "        user,password,host,port,db = getmongo()\n",
    "        database.__init__(self,db,user,password,host,port)##继承父类的__init__方法\n",
    "        self.connect()\n",
    "        \n",
    "    def connect(self):\n",
    "        \"\"\"\n",
    "        连接mongo数据库\n",
    "        \"\"\"\n",
    "        from pymongo import MongoClient\n",
    "        try:\n",
    "            self.Client = MongoClient(host=self.host, port=self.port)\n",
    "            \n",
    "            db = self.Client[self.db]\n",
    "            if self.host !='127.0.0.1':\n",
    "               db.authenticate(name=self.user,password=self.password)\n",
    "            self.__conn = db\n",
    "        except:\n",
    "            traceback.print_exc()\n",
    "            #logs('database','mongodb','connect',traceback.format_exc())\n",
    "            self.__conn = None\n",
    "\n",
    "\n",
    "    def remove(self): \n",
    "        \"\"\"\n",
    "        清楚爬虫已经完成的任务\n",
    "        \"\"\"\n",
    "        Now =  dt.datetime.now().strftime('%Y-%m-%d %H:%M:%S')\n",
    "        try:\n",
    "            count = self.__conn.client['taskdb']['kline'].count({'status':2})\n",
    "            if count >10000:\n",
    "                \n",
    "                self.__conn.client['taskdb']['kline'].delete_many({'status':2})\n",
    "                print u\"%s 清除Kline任务成功\"%Now\n",
    "            else:\n",
    "                 print u\"%s  Kline任务总数为%d条，未清除任务\"%(Now,count)\n",
    "        except:\n",
    "            pass\n",
    "        \n",
    "    def backup(self):\n",
    "            \"\"\"\n",
    "             备份数据\n",
    "            \"\"\"\n",
    "            t  =time.time()\n",
    "            #db = self.__conn.get_collection('kline')\n",
    "            Time = (dt.datetime.now() - dt.timedelta(1)).strftime('%Y-%m-%d %H:%M:%S')\n",
    "            Now =  dt.datetime.now().strftime('%Y-%m-%d %H:%M:%S')\n",
    "            types = ['0','1','2','3','4']\n",
    "            \n",
    "            kline = self.__conn.client['fes'].get_collection('kline').find({'type':{'$in':types},'Time':{'$lt':Time}})\n",
    "            backdb = self.__conn.client['backdb']\n",
    "            klinebackup = backdb['kline']\n",
    "            \n",
    "            print u\"%s kline开始备份数据,备份数据总量为:%d; \"%(dt.datetime.now().strftime('%Y-%m-%d %H:%M:%S'),kline.count())\n",
    "            for x in kline:\n",
    "                try:\n",
    "                   x.update({'backtime':Now})\n",
    "                   klinebackup.insert_one(x)##备份Kline数据到backdb中\n",
    "                except:\n",
    "                    traceback.print_exc()\n",
    "            \n",
    "            try: \n",
    "            ###备份成功后，删除原表中的数据\n",
    "                self.__conn.client['fes'].get_collection('kline').delete_many({'type':{'$in':types},'Time':{'$lt':Time}})\n",
    "               \n",
    "            except:\n",
    "                traceback.print_exc()\n",
    "                \n",
    "            print u\"%s 备份数据成功, \"%(dt.datetime.now().strftime('%Y-%m-%d %H:%M:%S')),    \n",
    "            print u\"\"\"数据备份完成，用时:%ds\"\"\"%(time.time()-t)\n",
    "    \n",
    "    def mongobackup(self):\n",
    "       \n",
    "        Now =  dt.datetime.now().strftime('%Y-%m-%d %H:%M:%S')\n",
    "        print \"%s爬虫脚步开始备份 \"%Now,\n",
    "        data = self.__conn.client['projectdb'].get_collection('projectdb').find()\n",
    "        newdata = data.clone()\n",
    "        projectdb = self.__conn.client['backdb'].get_collection('projectdb')\n",
    "        for x in newdata:\n",
    "            new_x = {'name':x.get('name'),'backtime':Now,'project':x}\n",
    "            try:\n",
    "               projectdb.insert_one(new_x)\n",
    "            except:\n",
    "               traceback.print_exc()\n",
    "        print \"%s爬虫脚步备份完成\"%Now     \n",
    "        \n",
    "    def close(self):\n",
    "        \"\"\"\n",
    "        关闭连接\n",
    "        \"\"\"\n",
    "        self.__conn.client.close()\n",
    "        \n",
    "    def getConn(self):\n",
    "        return self.__conn\n"
   ]
  },
  {
   "cell_type": "code",
   "execution_count": null,
   "metadata": {
    "collapsed": false
   },
   "outputs": [],
   "source": [
    "if __name__ == '__main__':\n",
    "    mongo  = mongodb()\n",
    "    mongo.remove()\n",
    "    mongo.backup()\n",
    "    mongo.mongobackup()\n",
    "    mongo.close()"
   ]
  },
  {
   "cell_type": "code",
   "execution_count": null,
   "metadata": {
    "collapsed": false
   },
   "outputs": [],
   "source": [
    "## var模型数据\n",
    "import numpy as np \n",
    "import pandas as pd"
   ]
  },
  {
   "cell_type": "code",
   "execution_count": null,
   "metadata": {
    "collapsed": false
   },
   "outputs": [],
   "source": [
    "y = np.random.normal(size=1000,loc=0.0, scale=0.1)\n",
    "x = range(1000)\n",
    "data = pd.DataFrame({'var':y})"
   ]
  },
  {
   "cell_type": "code",
   "execution_count": null,
   "metadata": {
    "collapsed": false
   },
   "outputs": [],
   "source": [
    "data.to_csv('../var.csv',index=False,headers=False)"
   ]
  },
  {
   "cell_type": "code",
   "execution_count": null,
   "metadata": {
    "collapsed": false
   },
   "outputs": [],
   "source": [
    "from ggplot import *"
   ]
  },
  {
   "cell_type": "code",
   "execution_count": null,
   "metadata": {
    "collapsed": false
   },
   "outputs": [],
   "source": [
    "ggplot(aes(x='var'),data=data)+geom_density()+xlab('%')+ylab('p')+labs(title='var')"
   ]
  },
  {
   "cell_type": "code",
   "execution_count": null,
   "metadata": {
    "collapsed": false
   },
   "outputs": [],
   "source": [
    "import datetime as dt"
   ]
  },
  {
   "cell_type": "code",
   "execution_count": null,
   "metadata": {
    "collapsed": false
   },
   "outputs": [],
   "source": [
    "##\n",
    "y = np.random.normal(size=92,loc=100, scale=2)\n",
    "date = map(lambda x:dt.datetime(2016,9,1)+dt.timedelta(x),range(92))\n",
    "upper = ((y+20)).tolist()\n",
    "lower = ((y-20)).tolist()\n",
    "y = y.tolist()\n",
    "Y = y+upper+lower\n",
    "group = np.repeat('mean',92).tolist() + np.repeat('lower',92).tolist()+np.repeat('upper',92).tolist()\n",
    "data = pd.DataFrame({'y':Y,'x':date+date+date,'group':group})\n",
    "data.to_csv('../value.csv',index=False)\n",
    "#data['x'] = data['x'].map(lambda x:dt.datetime.strptime(str(x),'%Y-%m-%d'))\n",
    "#ggplot(aes(x=x,y=y),data=data)+geom_line()+xlab('%')+ylab('p')+labs(title='var')"
   ]
  },
  {
   "cell_type": "code",
   "execution_count": null,
   "metadata": {
    "collapsed": false
   },
   "outputs": [],
   "source": []
  },
  {
   "cell_type": "code",
   "execution_count": null,
   "metadata": {
    "collapsed": false
   },
   "outputs": [],
   "source": [
    "ggplot(aes(x='x',y='y',color='group'),data=data)+geom_line()+xlab('date')+ylab('value')"
   ]
  },
  {
   "cell_type": "code",
   "execution_count": 1,
   "metadata": {
    "collapsed": false
   },
   "outputs": [],
   "source": [
    "def floatrange(start,stop,steps):\n",
    "    ''' Computes a range of floating value.\n",
    "        \n",
    "        Input:\n",
    "            start (float)  : Start value.\n",
    "            end   (float)  : End value\n",
    "            steps (integer): Number of values\n",
    "        \n",
    "        Output:\n",
    "            A list of floats\n",
    "        \n",
    "        Example:\n",
    "            >>> print floatrange(0.25, 1.3, 5)\n",
    "            [0.25, 0.51249999999999996, 0.77500000000000002, 1.0375000000000001, 1.3]\n",
    "    '''\n",
    "    return [start+float(i)*(stop-start)/(float(steps)-1) for i in range(steps)]\n",
    " \n"
   ]
  },
  {
   "cell_type": "code",
   "execution_count": 2,
   "metadata": {
    "collapsed": false
   },
   "outputs": [],
   "source": [
    "def density(value,length):\n",
    "    \"\"\"\n",
    "    value = [0.23, -0.03, 0.09, -0.05, 0.03, -0.13, 0.02, -0.04, -0.03,...,]\n",
    "    \"\"\"\n",
    "    value = sorted(value)##对数组进行排序\n",
    "    N = len(value)## 数组长度\n",
    "    Max = max(value)##计算最大值\n",
    "    Min = min(value)##计算最小值\n",
    "    ##分位数\n",
    "    \n",
    "    Quartile = floatrange(Min,Max,length)##划分length个区间\n",
    "   \n",
    "    n = length##分位数区间个数\n",
    "    \n",
    "    densitylist = np.repeat(0,n).tolist()\n",
    "    tempvalue = value[:]\n",
    "    while tempvalue!=[]:\n",
    "        x = tempvalue.pop()\n",
    "        \n",
    "        for i in range(n-1):\n",
    "               if x>= Quartile[i] and x<Quartile[i+1]:\n",
    "                  densitylist[i]+= 1\n",
    "                  \n",
    "                  if x==Max:\n",
    "                          densitylist[i+1]+= 1\n",
    "                  break\n",
    "               \n",
    "    return densitylist,Quartile"
   ]
  },
  {
   "cell_type": "code",
   "execution_count": 2,
   "metadata": {
    "collapsed": true
   },
   "outputs": [],
   "source": [
    "import numpy as np\n",
    "import pandas as pd"
   ]
  },
  {
   "cell_type": "code",
   "execution_count": 10,
   "metadata": {
    "collapsed": false
   },
   "outputs": [],
   "source": [
    "n=10000\n",
    "value = np.random.normal(0,0.1,size=n).tolist()\n",
    "\n",
    "y,x = np.histogram(value,bins='scott',density=True)\n",
    "x = (x+ (x[1]-x[0])/2.0)[:-1]\n",
    "data = pd.DataFrame({'x':x,'y':y})"
   ]
  },
  {
   "cell_type": "code",
   "execution_count": 19,
   "metadata": {
    "collapsed": false
   },
   "outputs": [
    {
     "data": {
      "text/plain": [
       "-0.1601447617133019"
      ]
     },
     "execution_count": 19,
     "metadata": {},
     "output_type": "execute_result"
    }
   ],
   "source": [
    "value = sorted(value)\n",
    "value[int(0.05*(len(value)-1))]"
   ]
  },
  {
   "cell_type": "code",
   "execution_count": 8,
   "metadata": {
    "collapsed": false
   },
   "outputs": [],
   "source": [
    "%matplotlib inline\n",
    "from ggplot import *"
   ]
  },
  {
   "cell_type": "code",
   "execution_count": 11,
   "metadata": {
    "collapsed": false
   },
   "outputs": [
    {
     "data": {
      "image/png": "[encoded data removed]",
      "text/plain": [
       "<matplotlib.figure.Figure at 0x1176e0d90>"
      ]
     },
     "metadata": {},
     "output_type": "display_data"
    },
    {
     "data": {
      "text/plain": [
       "<ggplot: (293003449)>"
      ]
     },
     "execution_count": 11,
     "metadata": {},
     "output_type": "execute_result"
    }
   ],
   "source": [
    "ggplot(aes(x='x',y='y'),data=data)+geom_line()"
   ]
  },
  {
   "cell_type": "code",
   "execution_count": 21,
   "metadata": {
    "collapsed": true
   },
   "outputs": [],
   "source": [
    "tempdata = pd.DataFrame({'x':value})"
   ]
  },
  {
   "cell_type": "code",
   "execution_count": 22,
   "metadata": {
    "collapsed": false
   },
   "outputs": [
    {
     "data": {
      "image/png": "[encoded data removed]",
      "text/plain": [
       "<matplotlib.figure.Figure at 0x118501490>"
      ]
     },
     "metadata": {},
     "output_type": "display_data"
    },
    {
     "data": {
      "text/plain": [
       "<ggplot: (293740805)>"
      ]
     },
     "execution_count": 22,
     "metadata": {},
     "output_type": "execute_result"
    }
   ],
   "source": [
    "ggplot(aes(x='x'),data=tempdata)+geom_density()"
   ]
  },
  {
   "cell_type": "code",
   "execution_count": null,
   "metadata": {
    "collapsed": false
   },
   "outputs": [],
   "source": []
  },
  {
   "cell_type": "code",
   "execution_count": null,
   "metadata": {
    "collapsed": false
   },
   "outputs": [],
   "source": []
  },
  {
   "cell_type": "code",
   "execution_count": null,
   "metadata": {
    "collapsed": false
   },
   "outputs": [],
   "source": []
  }
 ],
 "metadata": {
  "anaconda-cloud": {},
  "kernelspec": {
   "display_name": "Python [Root]",
   "language": "python",
   "name": "Python [Root]"
  },
  "language_info": {
   "codemirror_mode": {
    "name": "ipython",
    "version": 2
   },
   "file_extension": ".py",
   "mimetype": "text/x-python",
   "name": "python",
   "nbconvert_exporter": "python",
   "pygments_lexer": "ipython2",
   "version": "2.7.12"
  }
 },
 "nbformat": 4,
 "nbformat_minor": 0
}
